{
 "cells": [
  {
   "cell_type": "code",
   "execution_count": 1,
   "metadata": {},
   "outputs": [],
   "source": [
    "import numpy as np\n",
    "from skimage.metrics import structural_similarity as ssim\n",
    "from skimage.metrics import peak_signal_noise_ratio as psnr\n",
    "from skimage.metrics import mean_squared_error as mse\n",
    "import scipy.stats as stats\n",
    "import cv2\n",
    "from PIL import Image\n",
    "\n",
    "#TODO: Varianza 3 sigma del directorio. CALCULAMOS LA MEDIA Y VARIANZA DEL DIRECTORIO. LUEGO VEMOS SI LA IMAGEN INPUT SE DESVIA DE LA MEDIA MAS DE 3 SIGMA. SI ES ASI, ES UNA IMAGEN ANOMALA.\n",
    "# OCLUSION Y ENCADILAMIENTO"
   ]
  },
  {
   "cell_type": "code",
   "execution_count": 2,
   "metadata": {},
   "outputs": [],
   "source": [
    "imagenes = {\n",
    "    \"pasillo\": Image.open('./img/pasillo.jpeg'),\n",
    "    \"amb\": Image.open('./img/amb.png'),\n",
    "    \"amb_tapado\": Image.open('./img/amb_tapado.png'),\n",
    "    \"amb_no_tan_tapado\": Image.open('./img/amb_no_tan_tapado.png'),\n",
    "}"
   ]
  },
  {
   "cell_type": "code",
   "execution_count": 3,
   "metadata": {},
   "outputs": [
    {
     "name": "stdout",
     "output_type": "stream",
     "text": [
      "Métricas para pasillo:\n",
      "  Varianza: 4254.413244222088\n",
      "  Entropía: 5.411305904388428\n",
      "==============================\n",
      "Métricas para amb:\n",
      "  Varianza: 3197.160386236046\n",
      "  Entropía: 5.264530658721924\n",
      "==============================\n",
      "Métricas para amb_tapado:\n",
      "  Varianza: 0.0\n",
      "  Entropía: 0.0\n",
      "==============================\n",
      "Métricas para amb_no_tan_tapado:\n",
      "  Varianza: 161.66434888126562\n",
      "  Entropía: 3.8213706016540527\n",
      "==============================\n"
     ]
    }
   ],
   "source": [
    "def calcular_metricas(imagen_np):\n",
    "    # Varianza del histograma de luminosidad.\n",
    "    varianza = np.var(imagen_np)\n",
    "    \n",
    "    # Entropía de la imagen.\n",
    "    hist = cv2.calcHist([imagen_np], [0], None, [256], [0, 256])\n",
    "    hist = hist.ravel()/hist.sum()\n",
    "    entropia = stats.entropy(hist)\n",
    "    \n",
    "    return varianza, entropia\n",
    "\n",
    "for nombre, imagen in imagenes.items():\n",
    "    imagen_np = np.asarray(imagen.convert('L'))  # Convertir a escala de grises y a NumPy array\n",
    "    varianza, entropia = calcular_metricas(imagen_np)\n",
    "    \n",
    "    print(f\"Métricas para {nombre}:\")\n",
    "    print(f\"  Varianza: {varianza}\")\n",
    "    print(f\"  Entropía: {entropia}\")\n",
    "    print(\"=\"*30)"
   ]
  },
  {
   "cell_type": "code",
   "execution_count": 4,
   "metadata": {},
   "outputs": [
    {
     "name": "stdout",
     "output_type": "stream",
     "text": [
      "Comparación entre amb y amb_tapado:\n",
      "  SSIM: 0.0016844768320956284\n",
      "  MSE: 21277.751277796066\n",
      "==============================\n",
      "Comparación entre amb y amb_no_tan_tapado:\n",
      "  SSIM: 0.4977693468954524\n",
      "  MSE: 11898.911541767244\n",
      "==============================\n"
     ]
    }
   ],
   "source": [
    "# Definición de las imágenes\n",
    "imagenes = {\n",
    "    \"amb\": Image.open('./img/amb.png'),\n",
    "    \"amb_tapado\": Image.open('./img/amb_tapado.png'),\n",
    "    \"amb_no_tan_tapado\": Image.open('./img/amb_no_tan_tapado.png'),\n",
    "}\n",
    "\n",
    "# Convertir todas las imágenes a escala de grises y a NumPy array\n",
    "imagenes_np = {nombre: cv2.cvtColor(np.array(imagen), cv2.COLOR_BGR2GRAY) for nombre, imagen in imagenes.items()}\n",
    "\n",
    "def mse(imagenA, imagenB):\n",
    "    # Calcula el error cuadrático medio entre dos imágenes\n",
    "    err = np.sum((imagenA.astype(\"float\") - imagenB.astype(\"float\")) ** 2)\n",
    "    err /= float(imagenA.shape[0] * imagenA.shape[1])\n",
    "    return err\n",
    "\n",
    "# Comparar cada imagen con la imagen de referencia \"amb\"\n",
    "imagen_referencia = imagenes_np[\"amb\"]\n",
    "for nombre, imagen in imagenes_np.items():\n",
    "    if nombre == \"amb\":  # No comparar la imagen de referencia consigo misma\n",
    "        continue\n",
    "    s, _ = ssim(imagen, imagen_referencia, full=True)\n",
    "    e = mse(imagen, imagen_referencia)\n",
    "    \n",
    "    print(f\"Comparación entre amb y {nombre}:\")\n",
    "    print(f\"  SSIM: {s}\")\n",
    "    print(f\"  MSE: {e}\")\n",
    "    print(\"=\"*30)"
   ]
  },
  {
   "cell_type": "code",
   "execution_count": 5,
   "metadata": {},
   "outputs": [
    {
     "name": "stdout",
     "output_type": "stream",
     "text": [
      "Comparación entre amb y amb_tapado:\n",
      "  SSIM: 0.0016844768320956284\n",
      "  MSE: 21277.751277796066\n",
      "==============================\n",
      "Comparación entre amb y amb_no_tan_tapado:\n",
      "  SSIM: 0.4977693468954524\n",
      "  MSE: 11898.911541767244\n",
      "==============================\n"
     ]
    }
   ],
   "source": [
    "# Definición de las imágenes\n",
    "imagenes = {\n",
    "    \"amb\": Image.open('./img/amb.png'),\n",
    "    \"amb_tapado\": Image.open('./img/amb_tapado.png'),\n",
    "    \"amb_no_tan_tapado\": Image.open('./img/amb_no_tan_tapado.png'),\n",
    "}\n",
    "\n",
    "# Convertir todas las imágenes a escala de grises y a NumPy array\n",
    "imagenes_np = {nombre: cv2.cvtColor(np.array(imagen), cv2.COLOR_BGR2GRAY) for nombre, imagen in imagenes.items()}\n",
    "\n",
    "def mse(imagenA, imagenB):\n",
    "    # Calcula el error cuadrático medio entre dos imágenes\n",
    "    err = np.sum((imagenA.astype(\"float\") - imagenB.astype(\"float\")) ** 2)\n",
    "    err /= float(imagenA.shape[0] * imagenA.shape[1])\n",
    "    return err\n",
    "\n",
    "# Comparar cada imagen con la imagen de referencia \"amb\"\n",
    "imagen_referencia = imagenes_np[\"amb\"]\n",
    "for nombre, imagen in imagenes_np.items():\n",
    "    if nombre == \"amb\":  # No comparar la imagen de referencia consigo misma\n",
    "        continue\n",
    "    s = ssim(imagen, imagen_referencia)\n",
    "    e = mse(imagen, imagen_referencia)\n",
    "    \n",
    "    print(f\"Comparación entre amb y {nombre}:\")\n",
    "    print(f\"  SSIM: {s}\")\n",
    "    print(f\"  MSE: {e}\")\n",
    "    print(\"=\"*30)"
   ]
  }
 ],
 "metadata": {
  "kernelspec": {
   "display_name": "proyecto-pdi",
   "language": "python",
   "name": "python3"
  },
  "language_info": {
   "codemirror_mode": {
    "name": "ipython",
    "version": 3
   },
   "file_extension": ".py",
   "mimetype": "text/x-python",
   "name": "python",
   "nbconvert_exporter": "python",
   "pygments_lexer": "ipython3",
   "version": "3.11.5"
  },
  "orig_nbformat": 4
 },
 "nbformat": 4,
 "nbformat_minor": 2
}
