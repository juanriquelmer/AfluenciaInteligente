{
 "cells": [
  {
   "cell_type": "code",
   "execution_count": 52,
   "metadata": {},
   "outputs": [
    {
     "ename": "ImportError",
     "evalue": "cannot import name 'compare_ssim' from 'skimage.measure' (c:\\Users\\josegcc\\anaconda3\\envs\\proyecto-pdi\\Lib\\site-packages\\skimage\\measure\\__init__.py)",
     "output_type": "error",
     "traceback": [
      "\u001b[1;31m---------------------------------------------------------------------------\u001b[0m",
      "\u001b[1;31mImportError\u001b[0m                               Traceback (most recent call last)",
      "\u001b[1;32mc:\\Users\\josegcc\\Documents\\Git\\AfluenciaInteligente\\camera_module\\tests\\cammod_error_test\\cammod_error_test.ipynb Cell 1\u001b[0m line \u001b[0;36m5\n\u001b[0;32m      <a href='vscode-notebook-cell:/c%3A/Users/josegcc/Documents/Git/AfluenciaInteligente/camera_module/tests/cammod_error_test/cammod_error_test.ipynb#W1sZmlsZQ%3D%3D?line=2'>3</a>\u001b[0m \u001b[39mfrom\u001b[39;00m \u001b[39mskimage\u001b[39;00m\u001b[39m.\u001b[39;00m\u001b[39mmetrics\u001b[39;00m \u001b[39mimport\u001b[39;00m peak_signal_noise_ratio \u001b[39mas\u001b[39;00m psnr\n\u001b[0;32m      <a href='vscode-notebook-cell:/c%3A/Users/josegcc/Documents/Git/AfluenciaInteligente/camera_module/tests/cammod_error_test/cammod_error_test.ipynb#W1sZmlsZQ%3D%3D?line=3'>4</a>\u001b[0m \u001b[39mfrom\u001b[39;00m \u001b[39mskimage\u001b[39;00m\u001b[39m.\u001b[39;00m\u001b[39mmetrics\u001b[39;00m \u001b[39mimport\u001b[39;00m mean_squared_error \u001b[39mas\u001b[39;00m mse\n\u001b[1;32m----> <a href='vscode-notebook-cell:/c%3A/Users/josegcc/Documents/Git/AfluenciaInteligente/camera_module/tests/cammod_error_test/cammod_error_test.ipynb#W1sZmlsZQ%3D%3D?line=4'>5</a>\u001b[0m \u001b[39mfrom\u001b[39;00m \u001b[39mskimage\u001b[39;00m\u001b[39m.\u001b[39;00m\u001b[39mmeasure\u001b[39;00m \u001b[39mimport\u001b[39;00m compare_ssim\n\u001b[0;32m      <a href='vscode-notebook-cell:/c%3A/Users/josegcc/Documents/Git/AfluenciaInteligente/camera_module/tests/cammod_error_test/cammod_error_test.ipynb#W1sZmlsZQ%3D%3D?line=5'>6</a>\u001b[0m \u001b[39mimport\u001b[39;00m \u001b[39mscipy\u001b[39;00m\u001b[39m.\u001b[39;00m\u001b[39mstats\u001b[39;00m \u001b[39mas\u001b[39;00m \u001b[39mstats\u001b[39;00m\n\u001b[0;32m      <a href='vscode-notebook-cell:/c%3A/Users/josegcc/Documents/Git/AfluenciaInteligente/camera_module/tests/cammod_error_test/cammod_error_test.ipynb#W1sZmlsZQ%3D%3D?line=6'>7</a>\u001b[0m \u001b[39mimport\u001b[39;00m \u001b[39mcv2\u001b[39;00m\n",
      "\u001b[1;31mImportError\u001b[0m: cannot import name 'compare_ssim' from 'skimage.measure' (c:\\Users\\josegcc\\anaconda3\\envs\\proyecto-pdi\\Lib\\site-packages\\skimage\\measure\\__init__.py)"
     ]
    }
   ],
   "source": [
    "import numpy as np\n",
    "from skimage.metrics import structural_similarity as ssim\n",
    "from skimage.metrics import peak_signal_noise_ratio as psnr\n",
    "from skimage.metrics import mean_squared_error as mse\n",
    "from skimage.measure import compare_ssim\n",
    "import scipy.stats as stats\n",
    "import cv2\n",
    "from PIL import Image"
   ]
  },
  {
   "cell_type": "code",
   "execution_count": null,
   "metadata": {},
   "outputs": [],
   "source": [
    "imagenes = {\n",
    "    \"pasillo\": Image.open('./img/pasillo.jpeg'),\n",
    "    \"amb\": Image.open('./img/amb.png'),\n",
    "    \"amb_tapado\": Image.open('./img/amb_tapado.png'),\n",
    "    \"amb_no_tan_tapado\": Image.open('./img/amb_no_tan_tapado.png'),\n",
    "}"
   ]
  },
  {
   "cell_type": "code",
   "execution_count": null,
   "metadata": {},
   "outputs": [
    {
     "name": "stdout",
     "output_type": "stream",
     "text": [
      "Métricas para pasillo:\n",
      "  Varianza: 4254.413244222088\n",
      "  Entropía: 5.411305904388428\n",
      "==============================\n",
      "Métricas para amb:\n",
      "  Varianza: 3197.160386236046\n",
      "  Entropía: 5.264530658721924\n",
      "==============================\n",
      "Métricas para amb_tapado:\n",
      "  Varianza: 0.0\n",
      "  Entropía: 0.0\n",
      "==============================\n",
      "Métricas para amb_no_tan_tapado:\n",
      "  Varianza: 161.66434888126562\n",
      "  Entropía: 3.8213706016540527\n",
      "==============================\n"
     ]
    }
   ],
   "source": [
    "def calcular_metricas(imagen_np):\n",
    "    # Varianza del histograma de luminosidad.\n",
    "    varianza = np.var(imagen_np)\n",
    "    \n",
    "    # Entropía de la imagen.\n",
    "    hist = cv2.calcHist([imagen_np], [0], None, [256], [0, 256])\n",
    "    hist = hist.ravel()/hist.sum()\n",
    "    entropia = stats.entropy(hist)\n",
    "    \n",
    "    return varianza, entropia\n",
    "\n",
    "for nombre, imagen in imagenes.items():\n",
    "    imagen_np = np.asarray(imagen.convert('L'))  # Convertir a escala de grises y a NumPy array\n",
    "    varianza, entropia = calcular_metricas(imagen_np)\n",
    "    \n",
    "    print(f\"Métricas para {nombre}:\")\n",
    "    print(f\"  Varianza: {varianza}\")\n",
    "    print(f\"  Entropía: {entropia}\")\n",
    "    print(\"=\"*30)"
   ]
  },
  {
   "cell_type": "code",
   "execution_count": null,
   "metadata": {},
   "outputs": [
    {
     "name": "stdout",
     "output_type": "stream",
     "text": [
      "Comparación entre amb y amb_tapado:\n",
      "  SSIM: 0.0016844768320956284\n",
      "  MSE: 21277.751277796066\n",
      "==============================\n",
      "Comparación entre amb y amb_no_tan_tapado:\n",
      "  SSIM: 0.4977693468954524\n",
      "  MSE: 11898.911541767244\n",
      "==============================\n"
     ]
    }
   ],
   "source": [
    "# Definición de las imágenes\n",
    "imagenes = {\n",
    "    \"amb\": Image.open('./img/amb.png'),\n",
    "    \"amb_tapado\": Image.open('./img/amb_tapado.png'),\n",
    "    \"amb_no_tan_tapado\": Image.open('./img/amb_no_tan_tapado.png'),\n",
    "}\n",
    "\n",
    "# Convertir todas las imágenes a escala de grises y a NumPy array\n",
    "imagenes_np = {nombre: cv2.cvtColor(np.array(imagen), cv2.COLOR_BGR2GRAY) for nombre, imagen in imagenes.items()}\n",
    "\n",
    "def mse(imagenA, imagenB):\n",
    "    # Calcula el error cuadrático medio entre dos imágenes\n",
    "    err = np.sum((imagenA.astype(\"float\") - imagenB.astype(\"float\")) ** 2)\n",
    "    err /= float(imagenA.shape[0] * imagenA.shape[1])\n",
    "    return err\n",
    "\n",
    "# Comparar cada imagen con la imagen de referencia \"amb\"\n",
    "imagen_referencia = imagenes_np[\"amb\"]\n",
    "for nombre, imagen in imagenes_np.items():\n",
    "    if nombre == \"amb\":  # No comparar la imagen de referencia consigo misma\n",
    "        continue\n",
    "    s, _ = ssim(imagen, imagen_referencia, full=True)\n",
    "    e = mse(imagen, imagen_referencia)\n",
    "    \n",
    "    print(f\"Comparación entre amb y {nombre}:\")\n",
    "    print(f\"  SSIM: {s}\")\n",
    "    print(f\"  MSE: {e}\")\n",
    "    print(\"=\"*30)"
   ]
  },
  {
   "cell_type": "code",
   "execution_count": null,
   "metadata": {},
   "outputs": [
    {
     "name": "stdout",
     "output_type": "stream",
     "text": [
      "Comparación entre amb y amb_tapado:\n",
      "  SSIM: 0.0016844768320956284\n",
      "  MSE: 21277.751277796066\n",
      "==============================\n",
      "Comparación entre amb y amb_no_tan_tapado:\n",
      "  SSIM: 0.4977693468954524\n",
      "  MSE: 11898.911541767244\n",
      "==============================\n"
     ]
    }
   ],
   "source": [
    "# Definición de las imágenes\n",
    "imagenes = {\n",
    "    \"amb\": Image.open('./img/amb.png'),\n",
    "    \"amb_tapado\": Image.open('./img/amb_tapado.png'),\n",
    "    \"amb_no_tan_tapado\": Image.open('./img/amb_no_tan_tapado.png'),\n",
    "}\n",
    "\n",
    "# Convertir todas las imágenes a escala de grises y a NumPy array\n",
    "imagenes_np = {nombre: cv2.cvtColor(np.array(imagen), cv2.COLOR_BGR2GRAY) for nombre, imagen in imagenes.items()}\n",
    "\n",
    "def mse(imagenA, imagenB):\n",
    "    # Calcula el error cuadrático medio entre dos imágenes\n",
    "    err = np.sum((imagenA.astype(\"float\") - imagenB.astype(\"float\")) ** 2)\n",
    "    err /= float(imagenA.shape[0] * imagenA.shape[1])\n",
    "    return err\n",
    "\n",
    "# Comparar cada imagen con la imagen de referencia \"amb\"\n",
    "imagen_referencia = imagenes_np[\"amb\"]\n",
    "for nombre, imagen in imagenes_np.items():\n",
    "    if nombre == \"amb\":  # No comparar la imagen de referencia consigo misma\n",
    "        continue\n",
    "    s = compare_ssim(imagen, imagen_referencia)\n",
    "    e = mse(imagen, imagen_referencia)\n",
    "    \n",
    "    print(f\"Comparación entre amb y {nombre}:\")\n",
    "    print(f\"  SSIM: {s}\")\n",
    "    print(f\"  MSE: {e}\")\n",
    "    print(\"=\"*30)"
   ]
  }
 ],
 "metadata": {
  "kernelspec": {
   "display_name": "proyecto-pdi",
   "language": "python",
   "name": "python3"
  },
  "language_info": {
   "codemirror_mode": {
    "name": "ipython",
    "version": 3
   },
   "file_extension": ".py",
   "mimetype": "text/x-python",
   "name": "python",
   "nbconvert_exporter": "python",
   "pygments_lexer": "ipython3",
   "version": "3.11.5"
  },
  "orig_nbformat": 4
 },
 "nbformat": 4,
 "nbformat_minor": 2
}
