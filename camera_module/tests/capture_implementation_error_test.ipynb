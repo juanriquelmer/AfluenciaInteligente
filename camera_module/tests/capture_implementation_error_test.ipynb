{
 "cells": [
  {
   "cell_type": "markdown",
   "metadata": {},
   "source": [
    "# Tarea 2.1.2\n",
    "\n",
    "El propósito de este cuaderno es demostrar el funcionamiento básico del módulo modCam. Se optará por un Jupyter Notebook para probar estas funcionalidades; esto se abordará más adelante en el T2.2.2."
   ]
  },
  {
   "cell_type": "code",
   "execution_count": 13,
   "metadata": {},
   "outputs": [],
   "source": [
    "#Librerias necesarias\n",
    "import cv2\n",
    "import os"
   ]
  },
  {
   "cell_type": "code",
   "execution_count": 18,
   "metadata": {},
   "outputs": [],
   "source": [
    "# Sacar una foto con la camara\n",
    "\n",
    "cam = cv2.VideoCapture(0) # VideoCapture(0) para la camara principal\n",
    "ret, frame = cam.read() # ret es un booleano que indica si se ha podido leer la imagen, frame es la imagen\n",
    "cv2.imwrite(\"./ModCam_IMG/test.jpg\", frame) \n",
    "cam.release()"
   ]
  },
  {
   "cell_type": "code",
   "execution_count": 15,
   "metadata": {},
   "outputs": [],
   "source": [
    "# Movemos la imagen al directorio ModCentral para simular el consumo de esta imagen por parte del modelo\n",
    "os.rename(\"./ModCam_IMG/test.jpg\", \"./ModCentral_IMG/test.jpg\")"
   ]
  },
  {
   "cell_type": "code",
   "execution_count": 16,
   "metadata": {},
   "outputs": [],
   "source": [
    "# Borramos la imamgen de ModCentral\n",
    "os.remove(\"./ModCentral_IMG/test.jpg\")"
   ]
  }
 ],
 "metadata": {
  "kernelspec": {
   "display_name": "proyecto-pdi",
   "language": "python",
   "name": "python3"
  },
  "language_info": {
   "codemirror_mode": {
    "name": "ipython",
    "version": 3
   },
   "file_extension": ".py",
   "mimetype": "text/x-python",
   "name": "python",
   "nbconvert_exporter": "python",
   "pygments_lexer": "ipython3",
   "version": "3.11.5"
  },
  "orig_nbformat": 4
 },
 "nbformat": 4,
 "nbformat_minor": 2
}
